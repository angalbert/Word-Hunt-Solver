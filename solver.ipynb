{
 "cells": [
  {
   "cell_type": "code",
   "execution_count": 1,
   "metadata": {},
   "outputs": [],
   "source": [
    "# free to play grid dimensions\n",
    "grid_size = 4\n",
    "board = [[''] * grid_size] * grid_size"
   ]
  },
  {
   "cell_type": "markdown",
   "metadata": {},
   "source": [
    "Since Word Hunt only accepts answers that are between 3 to n x n letters long (n being the dimensions of the grid), we need to preprocess the word bank to clean it of words that land outside of these criteria. "
   ]
  },
  {
   "cell_type": "code",
   "execution_count": 2,
   "metadata": {},
   "outputs": [],
   "source": [
    "clean = []\n",
    "with open('wordbank.txt', 'r') as file:\n",
    "    for word in file:\n",
    "        word = word.strip()\n",
    "        if 3 <= len(word) <= grid_size**2:\n",
    "            clean.append(word)\n",
    "\n",
    "with open('clean_wordbank.txt', 'w') as output_file:\n",
    "    for word in clean:\n",
    "        output_file.write(word + '\\n')"
   ]
  },
  {
   "cell_type": "code",
   "execution_count": 6,
   "metadata": {},
   "outputs": [
    {
     "name": "stdout",
     "output_type": "stream",
     "text": [
      "Words Removed: 127\n"
     ]
    }
   ],
   "source": [
    "initial_length = sum(1 for _ in open('wordbank.txt', 'r'))\n",
    "final_length = len(clean)\n",
    "print(f'Words Removed: {initial_length - final_length}')"
   ]
  }
 ],
 "metadata": {
  "kernelspec": {
   "display_name": "Python 3",
   "language": "python",
   "name": "python3"
  },
  "language_info": {
   "codemirror_mode": {
    "name": "ipython",
    "version": 3
   },
   "file_extension": ".py",
   "mimetype": "text/x-python",
   "name": "python",
   "nbconvert_exporter": "python",
   "pygments_lexer": "ipython3",
   "version": "3.9.6"
  },
  "orig_nbformat": 4
 },
 "nbformat": 4,
 "nbformat_minor": 2
}
